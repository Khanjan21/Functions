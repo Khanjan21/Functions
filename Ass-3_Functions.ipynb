{
 "cells": [
  {
   "cell_type": "code",
   "execution_count": 1,
   "id": "f3b61bd7-2a14-44ed-b680-9ed1a577e2f3",
   "metadata": {},
   "outputs": [],
   "source": [
    "# Assignment 3"
   ]
  },
  {
   "cell_type": "code",
   "execution_count": 5,
   "id": "0fe8e67d-091b-4bce-94d9-c4b783906464",
   "metadata": {},
   "outputs": [
    {
     "name": "stdout",
     "output_type": "stream",
     "text": [
      "Hello, Khanjan\n",
      "Hello Khanjan\n"
     ]
    },
    {
     "data": {
      "text/plain": [
       "'\\nFunction: Independent, defined outside of classes, called directly.\\n\\nMethod: Associated with a class, called on objects or the class itself, \\ncan be instance methods, class methods, or static methods.\\n'"
      ]
     },
     "execution_count": 5,
     "metadata": {},
     "output_type": "execute_result"
    }
   ],
   "source": [
    "#1)  What is the difference between a function and a method in Python?\n",
    "\n",
    "#Functions\n",
    "def greet(name):\n",
    "    return f\"Hello, {name}\"\n",
    "\n",
    "print(greet(\"Khanjan\")) \n",
    "\n",
    "#Methods\n",
    "class Greeter:\n",
    "    def __init__(self, name):\n",
    "        self.name = name\n",
    "        print(\"Hello\",name)\n",
    "      \n",
    "    \n",
    "obj = Greeter(\"Khanjan\")\n",
    "obj.name\n",
    "\n",
    "\n",
    "'''\n",
    "Function: Independent, defined outside of classes, called directly.\n",
    "\n",
    "Method: Associated with a class, called on objects or the class itself, \n",
    "can be instance methods, class methods, or static methods.\n",
    "'''"
   ]
  },
  {
   "cell_type": "code",
   "execution_count": 10,
   "id": "8936f850-7ed0-4d34-8690-e28a64dcce2a",
   "metadata": {},
   "outputs": [
    {
     "name": "stdout",
     "output_type": "stream",
     "text": [
      "5\n",
      "Hello, Khanjan\n",
      "Hi, Ajay\n",
      "6\n",
      "9\n",
      "name: Khanjan\n",
      "age: 19\n",
      "city: Gujarat\n"
     ]
    }
   ],
   "source": [
    "#2) Explain the concept of function arguments and parameters in Python\n",
    "\n",
    "'''\n",
    "Parameters\n",
    "Parameters are the variables listed inside the parentheses in the \n",
    "function definition. They act as placeholders for the values (arguments) \n",
    "that will be passed to the function when it is called.\n",
    "\n",
    "Arguments\n",
    "Arguments are the actual values passed to the function when it is called. \n",
    "These values are sassigned to the corresponding parameters defined in the \n",
    "function.\n",
    "'''\n",
    "\n",
    "#1)\n",
    "#Positional Parameters: These parameters are specified by their position \n",
    "#in the function definition.\n",
    "def add(a, b):\n",
    "    return a + b\n",
    "\n",
    "# 'a' and 'b' are positional parameters\n",
    "result = add(2, 3)  # 2 and 3 are positional arguments\n",
    "print(result)  \n",
    "\n",
    "#2)\n",
    "#Default Parameters: These parameters have default values specified \n",
    "#in the function definition. If no argument is provided for a default \n",
    "#parameter, the default value is used.\n",
    "def greet(name, greeting=\"Hello\"):\n",
    "    return f\"{greeting}, {name}\"\n",
    "\n",
    "print(greet(\"Khanjan\"))          \n",
    "print(greet(\"Ajay\", \"Hi\"))\n",
    "\n",
    "#3)\n",
    "#Variable-length Parameters: These parameters allow a function to accept \n",
    "#an arbitrary number of arguments.\n",
    "\n",
    "#*args: Allows you to pass a variable number of non-keyword arguments.\n",
    " \n",
    "def add(*args):\n",
    "    return sum(args)\n",
    "\n",
    "print(add(1, 2, 3))   \n",
    "print(add(4, 5))\n",
    "\n",
    "#4)\n",
    "#**kwargs: Allows you to pass a variable number of keyword arguments.\n",
    " \n",
    "def display_info(**kwargs):\n",
    "    for key, value in kwargs.items():\n",
    "        print(f\"{key}: {value}\")\n",
    "\n",
    "display_info(name=\"Khanjan\", age=19, city=\"Gujarat\")"
   ]
  },
  {
   "cell_type": "code",
   "execution_count": 13,
   "id": "75bae15b-93b7-4717-afd1-8892df599ff2",
   "metadata": {},
   "outputs": [
    {
     "name": "stdout",
     "output_type": "stream",
     "text": [
      "5\n",
      "Hello, Khanjan\n",
      "Hi, Ajay\n",
      "6\n",
      "9\n",
      "name: Khanjan\n",
      "age: 19\n",
      "city: Gujarat\n"
     ]
    }
   ],
   "source": [
    "#3) What are the different ways to define and call a function in Python?\n",
    "\n",
    "#Defining Functions\n",
    "#Using the def keyword:\n",
    "#The most common way to define a function is by using the def keyword.\n",
    "def greet(name):\n",
    "    return f\"Hello, {name}\"\n",
    "#Using lambda expressions:\n",
    "#Lambda functions are small anonymous functions defined using the\n",
    "#lambda keyword.\n",
    "greet = lambda name: f\"Hello, {name}\"\n",
    "\n",
    "\n",
    "#Calling a function\n",
    "\n",
    "#1)\n",
    "#Positional Parameters: These parameters are specified by their position \n",
    "#in the function definition.\n",
    "def add(a, b):\n",
    "    return a + b\n",
    "\n",
    "# 'a' and 'b' are positional parameters\n",
    "result = add(2, 3)  # 2 and 3 are positional arguments\n",
    "print(result)  \n",
    "\n",
    "#2)\n",
    "#Default Parameters: These parameters have default values specified \n",
    "#in the function definition. If no argument is provided for a default \n",
    "#parameter, the default value is used.\n",
    "def greet(name, greeting=\"Hello\"):\n",
    "    return f\"{greeting}, {name}\"\n",
    "\n",
    "print(greet(\"Khanjan\"))          \n",
    "print(greet(\"Ajay\", \"Hi\"))\n",
    "\n",
    "#3)\n",
    "#Variable-length Parameters: These parameters allow a function to accept \n",
    "#an arbitrary number of arguments.\n",
    "\n",
    "#*args: Allows you to pass a variable number of non-keyword arguments.\n",
    " \n",
    "def add(*args):\n",
    "    return sum(args)\n",
    "\n",
    "print(add(1, 2, 3))   \n",
    "print(add(4, 5))\n",
    "\n",
    "#4)\n",
    "#**kwargs: Allows you to pass a variable number of keyword arguments.\n",
    " \n",
    "def display_info(**kwargs):\n",
    "    for key, value in kwargs.items():\n",
    "        print(f\"{key}: {value}\")\n",
    "\n",
    "display_info(name=\"Khanjan\", age=19, city=\"Gujarat\")"
   ]
  },
  {
   "cell_type": "code",
   "execution_count": 14,
   "id": "bc5f249f-ef77-4487-8740-b8c05b0a6388",
   "metadata": {},
   "outputs": [
    {
     "name": "stdout",
     "output_type": "stream",
     "text": [
      "5\n"
     ]
    }
   ],
   "source": [
    "#4)What is the purpose of the `return` statement in a Python function?\n",
    "\n",
    "'''\n",
    "Returning a Value\n",
    "The primary purpose of the return statement is to exit a function and \n",
    "send back a value to the caller. This value can be of any data type, \n",
    "including numbers, strings, lists, dictionaries, objects, or even other \n",
    "functions.\n",
    "'''\n",
    "def add(a, b):\n",
    "    return a + b\n",
    "\n",
    "result = add(2, 3)\n",
    "print(result)"
   ]
  },
  {
   "cell_type": "code",
   "execution_count": 16,
   "id": "ed44a92a-20cf-4e8a-a962-eca90b9abf6f",
   "metadata": {},
   "outputs": [
    {
     "name": "stdout",
     "output_type": "stream",
     "text": [
      "1\n",
      "2\n",
      "3\n",
      "h\n",
      "e\n",
      "l\n",
      "l\n",
      "o\n",
      "1\n",
      "2\n",
      "3\n"
     ]
    },
    {
     "data": {
      "text/plain": [
       "'\\nDefinition and Use:\\n\\nIterable: An object that can return an iterator.\\nExamples include lists, tuples, strings, and dictionaries. \\nYou can loop over an iterable using a for loop.\\n\\nIterator: An object used to iterate over an iterable.\\nIt keeps track of the current position during iteration. \\nYou get an iterator from an iterable by calling iter().\\n'"
      ]
     },
     "execution_count": 16,
     "metadata": {},
     "output_type": "execute_result"
    }
   ],
   "source": [
    "#5) What are iterators in Python and how do they differ from iterables?\n",
    "\n",
    "# Iterables\n",
    "# Definition: An iterable is any Python object capable of returning its \n",
    "# members one at a time, allowing it to be looped over in a for loop.\n",
    "# Common examples include lists, tuples, strings, dictionaries, and sets.\n",
    "\n",
    "my_list = [1, 2, 3]\n",
    "my_string = \"hello\"\n",
    "\n",
    "for item in my_list:\n",
    "    print(item)\n",
    "\n",
    "for char in my_string:\n",
    "    print(char)\n",
    "    \n",
    "#Iterators\n",
    "# Definition: An iterator is an object representing a stream of data. \n",
    "# It is returned by calling __iter__() on an iterable and must implement \n",
    "# both the __iter__() and __next__() methods. The __next__() method returns\n",
    "# the next item from the stream or raises StopIteration when no more items \n",
    "# are available.\n",
    "\n",
    "my_list = [1, 2, 3]\n",
    "my_iterator = iter(my_list)\n",
    "\n",
    "print(next(my_iterator))   \n",
    "print(next(my_iterator))   \n",
    "print(next(my_iterator))\n",
    "\n",
    "'''\n",
    "Definition and Use:\n",
    "\n",
    "Iterable: An object that can return an iterator.\n",
    "Examples include lists, tuples, strings, and dictionaries. \n",
    "You can loop over an iterable using a for loop.\n",
    "\n",
    "Iterator: An object used to iterate over an iterable.\n",
    "It keeps track of the current position during iteration. \n",
    "You get an iterator from an iterable by calling iter().\n",
    "'''\n"
   ]
  },
  {
   "cell_type": "code",
   "execution_count": 1,
   "id": "9a82d62b-4b4f-4917-905e-e693614a044f",
   "metadata": {},
   "outputs": [
    {
     "name": "stdout",
     "output_type": "stream",
     "text": [
      "1\n",
      "2\n",
      "3\n",
      "4\n",
      "5\n"
     ]
    }
   ],
   "source": [
    "#6)Explain the concept of generators in Python and how they are defined.\n",
    "\n",
    "'''\n",
    "Generators in Python are a type of iterable, like lists or tuples, \n",
    "but they are more efficient in terms of memory usage. \n",
    "They allow you to iterate over a sequence of values without \n",
    "having to store the entire sequence in memory at once. This can\n",
    "be particularly useful when dealing with large datasets or streams of data.\n",
    "'''\n",
    "#Example\n",
    "# Using a generator function\n",
    "def count_up_to(max):\n",
    "    count = 1\n",
    "    while count <= max:\n",
    "        yield count\n",
    "        count += 1\n",
    "\n",
    "counter = count_up_to(5)\n",
    "for number in counter:\n",
    "    print(number)\n",
    "\n"
   ]
  },
  {
   "cell_type": "code",
   "execution_count": 2,
   "id": "4e6dd0de-15f2-4c13-b603-4889761294df",
   "metadata": {},
   "outputs": [],
   "source": [
    "#7)What are the advantages of using generators over regular functions?\n",
    "\n",
    "'''\n",
    "1) Memory Efficiency\n",
    "2) Handling Large Data\n",
    "3) Representing Infinite Sequences\n",
    "4) Improved Performance\n",
    "5) State Preservation\n",
    "6) Cleaner Code\n",
    "\n",
    "'''\n",
    "\n",
    "#Comparison\n",
    "\n",
    "#Regular function\n",
    "\n",
    "def get_even_numbers(n):\n",
    "    result = []\n",
    "    for i in range(n):\n",
    "        if i % 2 == 0:\n",
    "            result.append(i)\n",
    "    return result\n",
    "\n",
    "#Generator function\n",
    "\n",
    "def even_numbers(n):\n",
    "    for i in range(n):\n",
    "        if i % 2 == 0:\n",
    "            yield i\n",
    "            "
   ]
  },
  {
   "cell_type": "code",
   "execution_count": 4,
   "id": "dbfbb343-2202-4ba0-81f8-ec20a56d1806",
   "metadata": {},
   "outputs": [
    {
     "name": "stdout",
     "output_type": "stream",
     "text": [
      "5\n",
      "5\n"
     ]
    }
   ],
   "source": [
    "#8)What is a lambda function in Python and when is it typically used?\n",
    "'''\n",
    "A lambda function in Python is a small, anonymous function defined\n",
    "using the lambda keyword. It is also known as a lambda expression. \n",
    "Unlike regular functions defined with def, lambda functions are \n",
    "typically used for simple operations that can be expressed in a single line\n",
    "'''\n",
    "# Regular function\n",
    "def add(x, y):\n",
    "    return x + y\n",
    "\n",
    "# Lambda function equivalent\n",
    "add_lambda = lambda x, y: x + y\n",
    "\n",
    "print(add(2, 3))          \n",
    "print(add_lambda(2, 3))   \n"
   ]
  },
  {
   "cell_type": "code",
   "execution_count": 5,
   "id": "d05b578c-d5e4-4114-9783-7bff0e9dd603",
   "metadata": {},
   "outputs": [
    {
     "name": "stdout",
     "output_type": "stream",
     "text": [
      "[1, 4, 9, 16, 25]\n"
     ]
    }
   ],
   "source": [
    "#9)Explain the purpose and usage of the `map()` function in Python.\n",
    "\n",
    "'''\n",
    "The map() function in Python is a built-in function used for \n",
    "applying a given function to each item in an iterable (like a list or tuple)\n",
    "and returning an iterator that produces the results. It is a part of Python's\n",
    "\\functional programming tools and is useful for transforming or processing \n",
    "collections of data in a concise way.\n",
    "'''\n",
    "\n",
    "# Define a function to apply\n",
    "def square(x):\n",
    "    return x ** 2\n",
    "\n",
    "# List of numbers\n",
    "numbers = [1, 2, 3, 4, 5]\n",
    "\n",
    "# Apply the function to each item in the list\n",
    "squared_numbers = map(square, numbers)\n",
    "\n",
    "# Convert to a list and print the results\n",
    "print(list(squared_numbers))   \n",
    "\n"
   ]
  },
  {
   "cell_type": "code",
   "execution_count": 6,
   "id": "e738cad4-a070-4d1d-8169-cec9629d44f1",
   "metadata": {},
   "outputs": [
    {
     "name": "stdout",
     "output_type": "stream",
     "text": [
      "[1, 4, 9, 16, 25]\n",
      "120\n",
      "[2, 4]\n"
     ]
    }
   ],
   "source": [
    "#10)What is the difference between `map()`, `reduce()`, and `filter()` functions in Python?\n",
    "\n",
    "'''\n",
    "map(): Transforms each element in an iterable based on a function. \n",
    "It produces a new iterable of the transformed values.\n",
    "\n",
    "reduce(): Aggregates or combines elements of an iterable into a single \n",
    "cumulative result using a function that takes two arguments.\n",
    "\n",
    "filter(): Filters elements in an iterable based on a condition function, \n",
    "producing a new iterable containing only those elements that satisfy the\n",
    "condition.\n",
    "'''\n",
    "\n",
    "#1) map()\n",
    "\n",
    "def square(x):\n",
    "    return x ** 2\n",
    "\n",
    "numbers = [1, 2, 3, 4, 5]\n",
    "squared_numbers = map(square, numbers)\n",
    "print(list(squared_numbers))  \n",
    "\n",
    "#2)reduce()\n",
    "\n",
    "from functools import reduce\n",
    "\n",
    "def multiply(x, y):\n",
    "    return x * y\n",
    "\n",
    " \n",
    "numbers = [1, 2, 3, 4, 5]\n",
    "\n",
    "product = reduce(multiply, numbers)\n",
    "\n",
    "print(product) \n",
    "\n",
    "\n",
    "\n",
    "#3) filter()\n",
    "\n",
    "def is_even(x):\n",
    "    return x % 2 == 0\n",
    "\n",
    "numbers = [1, 2, 3, 4, 5]\n",
    "even_numbers = filter(is_even, numbers)\n",
    "print(list(even_numbers))  "
   ]
  },
  {
   "cell_type": "code",
   "execution_count": 7,
   "id": "d65e0d4b-ff57-4529-91de-b10b6b374864",
   "metadata": {},
   "outputs": [
    {
     "name": "stdout",
     "output_type": "stream",
     "text": [
      "113\n"
     ]
    }
   ],
   "source": [
    "#11)11. Using pen & Paper write the internal mechanism for sum operation using  reduce function on this given\n",
    "# list:[47,11,42,13]; \n",
    "\n",
    "from functools import reduce\n",
    "\n",
    " \n",
    "def add(x, y):\n",
    "    return x + y\n",
    "\n",
    "# List of numbers\n",
    "numbers = [47, 11, 42, 13]\n",
    "\n",
    "# Use reduce to calculate the sum of all numbers\n",
    "total_sum = reduce(add, numbers)\n",
    "\n",
    "print(total_sum)  \n"
   ]
  },
  {
   "cell_type": "code",
   "execution_count": null,
   "id": "d7243497-ba88-4300-a81e-95d2180cffca",
   "metadata": {},
   "outputs": [],
   "source": []
  }
 ],
 "metadata": {
  "kernelspec": {
   "display_name": "Python 3 (ipykernel)",
   "language": "python",
   "name": "python3"
  },
  "language_info": {
   "codemirror_mode": {
    "name": "ipython",
    "version": 3
   },
   "file_extension": ".py",
   "mimetype": "text/x-python",
   "name": "python",
   "nbconvert_exporter": "python",
   "pygments_lexer": "ipython3",
   "version": "3.10.8"
  }
 },
 "nbformat": 4,
 "nbformat_minor": 5
}
